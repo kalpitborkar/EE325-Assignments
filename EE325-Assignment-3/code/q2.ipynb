{
 "cells": [
  {
   "cell_type": "code",
   "execution_count": 53,
   "id": "e258b02d",
   "metadata": {},
   "outputs": [],
   "source": [
    "from math import comb\n",
    "from math import ceil\n",
    "from math import floor\n",
    "import pandas as pd\n",
    "import math"
   ]
  },
  {
   "cell_type": "code",
   "execution_count": 54,
   "id": "f26729ca",
   "metadata": {},
   "outputs": [],
   "source": [
    "score  = pd.DataFrame()"
   ]
  },
  {
   "cell_type": "code",
   "execution_count": 65,
   "id": "f55edbfd",
   "metadata": {},
   "outputs": [],
   "source": [
    "p = .8\n",
    "expec = [0, 0, 0, 0, 0]\n",
    "n = 400\n",
    "k = 20"
   ]
  },
  {
   "cell_type": "code",
   "execution_count": 66,
   "id": "300b813b",
   "metadata": {},
   "outputs": [
    {
     "name": "stdout",
     "output_type": "stream",
     "text": [
      "n = 0 : \n",
      " 303.99999999999994\n"
     ]
    }
   ],
   "source": [
    "n_samp = 0\n",
    "for i in range(0, n-k):\n",
    "   expec[n_samp]= expec[n_samp] + (i+1)*comb(n-k, i+1)*(p**(i+1))*((1-p)**(n-k-i-1))\n",
    "print(\"n =\",n_samp,\":\",\"\\n\",expec[n_samp])\n"
   ]
  },
  {
   "cell_type": "code",
   "execution_count": 67,
   "id": "3fb1e4c2",
   "metadata": {},
   "outputs": [
    {
     "name": "stdout",
     "output_type": "stream",
     "text": [
      "n = 1 : \n",
      " 304.9999999999999\n"
     ]
    }
   ],
   "source": [
    "n_samp = 1\n",
    "\n",
    "for i in range(0, n-k):\n",
    "    expec[n_samp]= expec[n_samp] + (i+1)*comb(n-k, i)*(p**(i))*((1-p)**(n-k-i))\n",
    "print(\"n =\",n_samp,\":\",\"\\n\",expec[n_samp])"
   ]
  },
  {
   "cell_type": "code",
   "execution_count": 68,
   "id": "50e9c984",
   "metadata": {},
   "outputs": [
    {
     "name": "stdout",
     "output_type": "stream",
     "text": [
      "n = 2 : \n",
      " 306.0000000000003\n"
     ]
    }
   ],
   "source": [
    "n_samp = 2\n",
    "\n",
    "for i in range(1, n-k):\n",
    "    expec[n_samp]= expec[n_samp] + (i+1)*comb(n-k, i-1)*(p**(i-1))*((1-p)**(n-k-i+1))\n",
    "print(\"n =\",n_samp,\":\",\"\\n\",expec[n_samp])"
   ]
  },
  {
   "cell_type": "code",
   "execution_count": 69,
   "id": "b3ad6129",
   "metadata": {},
   "outputs": [
    {
     "name": "stdout",
     "output_type": "stream",
     "text": [
      "n = 3 : \n",
      " 307.0000000000001\n"
     ]
    }
   ],
   "source": [
    "n_samp = 3\n",
    "\n",
    "for i in range(2, n-k):\n",
    "    expec[n_samp]= expec[n_samp] + (i+1)*comb(n-k, i-2)*(p**(i-2))*((1-p)**(n-k-i+2))\n",
    "print(\"n =\",n_samp,\":\",\"\\n\",expec[n_samp])"
   ]
  },
  {
   "cell_type": "code",
   "execution_count": 70,
   "id": "e41a70bf",
   "metadata": {},
   "outputs": [
    {
     "name": "stdout",
     "output_type": "stream",
     "text": [
      "n = 4 : \n",
      " 308.0000000000001\n"
     ]
    }
   ],
   "source": [
    "n_samp = 4\n",
    "\n",
    "for i in range(3, n-k):\n",
    "    expec[n_samp]= expec[n_samp] + (i+1)*comb(n-k, i-3)*(p**(i-3))*((1-p)**(n-k-i+3))\n",
    "print(\"n =\",n_samp,\":\",\"\\n\",expec[n_samp])"
   ]
  },
  {
   "cell_type": "code",
   "execution_count": 75,
   "id": "2771cf5f",
   "metadata": {},
   "outputs": [],
   "source": [
    "a = (expec[2] + 1)\n",
    "b = (expec[2] - 1)\n",
    "c = [ expec[2] + 5, expec[2] + 10]\n",
    "d = [ expec[2] - 5, expec[2 ] - 10]\n",
    "interval = [\"-5 to +5\", \"-10 to +10\"]"
   ]
  },
  {
   "cell_type": "code",
   "execution_count": 73,
   "id": "61414d3d",
   "metadata": {},
   "outputs": [
    {
     "name": "stdout",
     "output_type": "stream",
     "text": [
      "0.4286052826983108 \n",
      " [0.4785984768657887, 0.8001796196609403, 0.5955181449739093]\n"
     ]
    }
   ],
   "source": [
    "pr = 0\n",
    "for m in range(ceil(a)-1,n-k):\n",
    "    pr = pr + comb(n-k ,m-1)*(p**(m-1))*((1-p)**(n-k-m+1))\n",
    "\n",
    "\n",
    "confid = [0, 0, 0]\n",
    "for i in [2, 1, 0]:\n",
    "    for z in range(ceil(d[i]), floor(c[i])+1):\n",
    "        confid[i] = confid[i] + comb(n-k ,z-2)*(p**(z-2))*((1-p)**(n-k-z+2))\n",
    "print(pr,\"\\n\", confid)"
   ]
  },
  {
   "cell_type": "code",
   "execution_count": 74,
   "id": "35e78e06",
   "metadata": {},
   "outputs": [
    {
     "data": {
      "text/html": [
       "<div>\n",
       "<style scoped>\n",
       "    .dataframe tbody tr th:only-of-type {\n",
       "        vertical-align: middle;\n",
       "    }\n",
       "\n",
       "    .dataframe tbody tr th {\n",
       "        vertical-align: top;\n",
       "    }\n",
       "\n",
       "    .dataframe thead th {\n",
       "        text-align: right;\n",
       "    }\n",
       "</style>\n",
       "<table border=\"1\" class=\"dataframe\">\n",
       "  <thead>\n",
       "    <tr style=\"text-align: right;\">\n",
       "      <th></th>\n",
       "      <th>Case</th>\n",
       "      <th>Expect | n = 0</th>\n",
       "      <th>Expect | n = 1</th>\n",
       "      <th>Expect | n = 2</th>\n",
       "      <th>Expect | n = 3</th>\n",
       "      <th>Expect | n = 4</th>\n",
       "      <th>Probability</th>\n",
       "      <th>Intreval</th>\n",
       "      <th>Confidence</th>\n",
       "    </tr>\n",
       "  </thead>\n",
       "  <tbody>\n",
       "    <tr>\n",
       "      <th>0</th>\n",
       "      <td>No of cases = 200, No of samples =10</td>\n",
       "      <td>152.0</td>\n",
       "      <td>153.0</td>\n",
       "      <td>154.0</td>\n",
       "      <td>155.0</td>\n",
       "      <td>156.0</td>\n",
       "      <td>0.471079</td>\n",
       "      <td>-10 to +10</td>\n",
       "      <td>0.92996</td>\n",
       "    </tr>\n",
       "    <tr>\n",
       "      <th>1</th>\n",
       "      <td>No of cases = 400, No of samples =20</td>\n",
       "      <td>304.0</td>\n",
       "      <td>305.0</td>\n",
       "      <td>306.0</td>\n",
       "      <td>307.0</td>\n",
       "      <td>308.0</td>\n",
       "      <td>0.428605</td>\n",
       "      <td>-10 to +10</td>\n",
       "      <td>0.80018</td>\n",
       "    </tr>\n",
       "  </tbody>\n",
       "</table>\n",
       "</div>"
      ],
      "text/plain": [
       "                                   Case  Expect | n = 0  Expect | n = 1  \\\n",
       "0  No of cases = 200, No of samples =10           152.0           153.0   \n",
       "1  No of cases = 400, No of samples =20           304.0           305.0   \n",
       "\n",
       "   Expect | n = 2  Expect | n = 3  Expect | n = 4  Probability    Intreval  \\\n",
       "0           154.0           155.0           156.0     0.471079  -10 to +10   \n",
       "1           306.0           307.0           308.0     0.428605  -10 to +10   \n",
       "\n",
       "   Confidence  \n",
       "0     0.92996  \n",
       "1     0.80018  "
      ]
     },
     "execution_count": 74,
     "metadata": {},
     "output_type": "execute_result"
    }
   ],
   "source": [
    "class1 = pd.Series({\"Case\": \"No of cases = \" +str(n) +\", No of samples =\" + str(k),\n",
    "                    \n",
    "                   \"Expect | n = 0\": expec[0],\n",
    "                    \"Expect | n = 1\": expec[1],\n",
    "                    \"Expect | n = 2\": expec[2],\n",
    "                    \"Expect | n = 3\": expec[3],\n",
    "                    \"Expect | n = 4\": expec[4],\n",
    "                    \"Probability\": pr,\n",
    "                    \"Intreval\": interval[1],\n",
    "                    \"Confidence\": confid[1]\n",
    "                   })\n",
    "score = score.append(class1, ignore_index = True)\n",
    "score"
   ]
  },
  {
   "cell_type": "code",
   "execution_count": null,
   "id": "dd3e2551",
   "metadata": {},
   "outputs": [],
   "source": []
  }
 ],
 "metadata": {
  "kernelspec": {
   "display_name": "Python 3",
   "language": "python",
   "name": "python3"
  },
  "language_info": {
   "codemirror_mode": {
    "name": "ipython",
    "version": 3
   },
   "file_extension": ".py",
   "mimetype": "text/x-python",
   "name": "python",
   "nbconvert_exporter": "python",
   "pygments_lexer": "ipython3",
   "version": "3.8.8"
  }
 },
 "nbformat": 4,
 "nbformat_minor": 5
}
