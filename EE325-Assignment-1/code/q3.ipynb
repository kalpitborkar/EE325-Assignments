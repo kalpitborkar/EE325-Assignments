{
 "cells": [
  {
   "cell_type": "code",
   "execution_count": 2,
   "id": "45e6d206",
   "metadata": {},
   "outputs": [],
   "source": [
    "from array import *\n",
    "import numpy as np\n",
    "import random"
   ]
  },
  {
   "cell_type": "code",
   "execution_count": 3,
   "id": "915742c2",
   "metadata": {},
   "outputs": [],
   "source": [
    "import matplotlib.pyplot as plt\n",
    "%matplotlib inline"
   ]
  },
  {
   "cell_type": "code",
   "execution_count": 4,
   "id": "36824a99",
   "metadata": {},
   "outputs": [],
   "source": [
    "import csv"
   ]
  },
  {
   "cell_type": "code",
   "execution_count": 5,
   "id": "aa4b27a9",
   "metadata": {},
   "outputs": [],
   "source": [
    "x,y = [], []\n",
    "f=open('hw1c1.txt')\n",
    "for l in f:\n",
    "    row = l.split()\n",
    "    x.append(float(row[0]))\n",
    "    y.append(float(row[1]))"
   ]
  },
  {
   "cell_type": "code",
   "execution_count": 6,
   "id": "e228614f",
   "metadata": {},
   "outputs": [
    {
     "data": {
      "text/plain": [
       "<matplotlib.collections.PathCollection at 0x154e22f0760>"
      ]
     },
     "execution_count": 6,
     "metadata": {},
     "output_type": "execute_result"
    },
    {
     "data": {
      "image/png": "[encoded data removed]",
      "text/plain": [
       "<Figure size 432x288 with 1 Axes>"
      ]
     },
     "metadata": {
      "needs_background": "light"
     },
     "output_type": "display_data"
    }
   ],
   "source": [
    "plt.scatter(x,y)"
   ]
  },
  {
   "cell_type": "code",
   "execution_count": 7,
   "id": "1c08f957",
   "metadata": {},
   "outputs": [],
   "source": [
    "a, b = np.polyfit(x, y, 1)"
   ]
  },
  {
   "cell_type": "code",
   "execution_count": 8,
   "id": "6989320a",
   "metadata": {},
   "outputs": [
    {
     "name": "stdout",
     "output_type": "stream",
     "text": [
      "0.0010134982957433196\n",
      "51.78061804381973\n"
     ]
    }
   ],
   "source": [
    "print(a)\n",
    "print(b)"
   ]
  },
  {
   "cell_type": "markdown",
   "id": "8dd60363",
   "metadata": {},
   "source": [
    "Plot with linear fit"
   ]
  },
  {
   "cell_type": "code",
   "execution_count": 9,
   "id": "99290c6e",
   "metadata": {},
   "outputs": [
    {
     "data": {
      "text/plain": [
       "[<matplotlib.lines.Line2D at 0x154e2a89e80>]"
      ]
     },
     "execution_count": 9,
     "metadata": {},
     "output_type": "execute_result"
    },
    {
     "data": {
      "image/png": "[encoded data removed]",
      "text/plain": [
       "<Figure size 432x288 with 1 Axes>"
      ]
     },
     "metadata": {
      "needs_background": "light"
     },
     "output_type": "display_data"
    }
   ],
   "source": [
    "x,y = [], []\n",
    "f=open('hw1c1.txt')\n",
    "for l in f:\n",
    "    row = l.split()\n",
    "    x.append(float(row[0]))\n",
    "    y.append(float(row[1]))\n",
    "np_x = np.array(x)\n",
    "np_y = np.array(y)\n",
    "plt.plot(x, y, 'o')\n",
    "m, b = np.polyfit(np_x, np_y, 1)\n",
    "plt.plot(np_x, m*np_x + b)"
   ]
  },
  {
   "cell_type": "markdown",
   "id": "45f98cc5",
   "metadata": {},
   "source": [
    "Predict weight"
   ]
  },
  {
   "cell_type": "code",
   "execution_count": 10,
   "id": "6eb2001b",
   "metadata": {},
   "outputs": [
    {
     "data": {
      "text/plain": [
       "51.94088252932562"
      ]
     },
     "execution_count": 10,
     "metadata": {},
     "output_type": "execute_result"
    }
   ],
   "source": [
    "height = 158.13  #height input\n",
    "predicted_weight = (m*height) + b #predicted weight (y cap)\n",
    "predicted_weight"
   ]
  },
  {
   "cell_type": "markdown",
   "id": "752bdc4a",
   "metadata": {},
   "source": [
    "actual height and weight data"
   ]
  },
  {
   "cell_type": "code",
   "execution_count": 11,
   "id": "b11b74c5",
   "metadata": {},
   "outputs": [
    {
     "data": {
      "text/plain": [
       "[48.222037,\n",
       " 47.960156,\n",
       " 49.866478,\n",
       " 51.18245,\n",
       " 50.553227,\n",
       " 50.570235,\n",
       " 50.014316,\n",
       " 49.819892,\n",
       " 50.124983,\n",
       " 47.905242,\n",
       " 50.249804,\n",
       " 47.202174,\n",
       " 49.92816,\n",
       " 47.751381,\n",
       " 47.544258,\n",
       " 48.319734,\n",
       " 47.045939,\n",
       " 49.023962,\n",
       " 50.665989,\n",
       " 48.625939,\n",
       " 49.743552,\n",
       " 49.243056,\n",
       " 50.817731,\n",
       " 48.762527,\n",
       " 49.439457]"
      ]
     },
     "execution_count": 11,
     "metadata": {},
     "output_type": "execute_result"
    }
   ],
   "source": [
    "data_1_x,data_1_y = [], []\n",
    "f=open('hw1c2_data_1.txt')\n",
    "for l in f:\n",
    "    row = l.split()\n",
    "    data_1_x.append(float(row[0]))\n",
    "    data_1_y.append(float(row[1]))\n",
    "data_1_y"
   ]
  },
  {
   "cell_type": "code",
   "execution_count": 12,
   "id": "8e09ea4f",
   "metadata": {},
   "outputs": [
    {
     "data": {
      "text/plain": [
       "[54.201572,\n",
       " 52.219351,\n",
       " 49.099235,\n",
       " 52.179688,\n",
       " 49.11366,\n",
       " 50.51486,\n",
       " 50.93405,\n",
       " 51.805005,\n",
       " 49.904107,\n",
       " 51.306787,\n",
       " 53.154605,\n",
       " 47.641773,\n",
       " 48.884878,\n",
       " 52.292411,\n",
       " 50.059077,\n",
       " 50.442733,\n",
       " 51.885902,\n",
       " 53.834592,\n",
       " 48.547157,\n",
       " 49.136514,\n",
       " 50.38375,\n",
       " 50.500766,\n",
       " 50.660283,\n",
       " 50.031303,\n",
       " 52.32947]"
      ]
     },
     "execution_count": 12,
     "metadata": {},
     "output_type": "execute_result"
    }
   ],
   "source": [
    "data_2_x,data_2_y = [], []\n",
    "f=open('hw1c2_data_2.txt')\n",
    "for l in f:\n",
    "    row = l.split()\n",
    "    data_2_x.append(float(row[0]))\n",
    "    data_2_y.append(float(row[1]))\n",
    "data_2_y"
   ]
  },
  {
   "cell_type": "code",
   "execution_count": 13,
   "id": "83a5d8fd",
   "metadata": {},
   "outputs": [
    {
     "data": {
      "text/plain": [
       "[52.135658,\n",
       " 53.805965,\n",
       " 54.984621,\n",
       " 54.062799,\n",
       " 52.566811,\n",
       " 53.680832,\n",
       " 53.023906,\n",
       " 52.600474,\n",
       " 55.529731,\n",
       " 53.203499,\n",
       " 52.632997,\n",
       " 52.366046,\n",
       " 53.681798,\n",
       " 51.256238,\n",
       " 51.030762,\n",
       " 53.789346,\n",
       " 51.565346,\n",
       " 52.900227,\n",
       " 54.663105,\n",
       " 54.883225,\n",
       " 55.816804,\n",
       " 51.985657,\n",
       " 54.78506,\n",
       " 53.98793,\n",
       " 55.378658]"
      ]
     },
     "execution_count": 13,
     "metadata": {},
     "output_type": "execute_result"
    }
   ],
   "source": [
    "data_3_x,data_3_y = [], []\n",
    "f=open('hw1c2_data_3.txt')\n",
    "for l in f:\n",
    "    row = l.split()\n",
    "    data_3_x.append(float(row[0]))\n",
    "    data_3_y.append(float(row[1]))\n",
    "data_3_y"
   ]
  },
  {
   "cell_type": "markdown",
   "id": "edb2146e",
   "metadata": {},
   "source": [
    "Predicted weight for height 155"
   ]
  },
  {
   "cell_type": "code",
   "execution_count": 14,
   "id": "f3a9a50e",
   "metadata": {},
   "outputs": [
    {
     "data": {
      "text/plain": [
       "51.937710279659946"
      ]
     },
     "execution_count": 14,
     "metadata": {},
     "output_type": "execute_result"
    }
   ],
   "source": [
    "height = 155  #height input\n",
    "predicted_weight = (m*height) + b #predicted weight (y cap)\n",
    "predicted_weight"
   ]
  },
  {
   "cell_type": "markdown",
   "id": "46158579",
   "metadata": {},
   "source": [
    "Predicted weight for height 160"
   ]
  },
  {
   "cell_type": "code",
   "execution_count": 15,
   "id": "3683c10c",
   "metadata": {},
   "outputs": [
    {
     "data": {
      "text/plain": [
       "51.94277777113866"
      ]
     },
     "execution_count": 15,
     "metadata": {},
     "output_type": "execute_result"
    }
   ],
   "source": [
    "height = 160  #height input\n",
    "predicted_weight = (m*height) + b #predicted weight (y cap)\n",
    "predicted_weight"
   ]
  },
  {
   "cell_type": "markdown",
   "id": "7577848d",
   "metadata": {},
   "source": [
    "Predicted weight for height 170"
   ]
  },
  {
   "cell_type": "code",
   "execution_count": 16,
   "id": "26edd87e",
   "metadata": {},
   "outputs": [
    {
     "data": {
      "text/plain": [
       "51.95291275409609"
      ]
     },
     "execution_count": 16,
     "metadata": {},
     "output_type": "execute_result"
    }
   ],
   "source": [
    "height = 170  #height input\n",
    "predicted_weight = (m*height) + b #predicted weight (y cap)\n",
    "predicted_weight"
   ]
  },
  {
   "cell_type": "markdown",
   "id": "f029f1b9",
   "metadata": {},
   "source": [
    "Error data"
   ]
  },
  {
   "cell_type": "code",
   "execution_count": 17,
   "id": "463930e7",
   "metadata": {},
   "outputs": [
    {
     "data": {
      "text/plain": [
       "array([ 0.18274525,  1.85305225,  3.03170825,  2.10988625,  0.61389825,\n",
       "        1.72791925,  1.07099325,  0.64756125,  3.57681825,  1.25058625,\n",
       "        0.68008425,  0.41313325,  1.72888525, -0.69667475, -0.92215075,\n",
       "        1.83643325, -0.38756675,  0.94731425,  2.71019225,  2.93031225,\n",
       "        3.86389125,  0.03274425,  2.83214725,  2.03501725,  3.42574525])"
      ]
     },
     "execution_count": 17,
     "metadata": {},
     "output_type": "execute_result"
    }
   ],
   "source": [
    "error_data_1 = np.array([])\n",
    "error_data_2 = np.array([])\n",
    "error_data_3 = np.array([])\n",
    "for x in range(25):\n",
    "    error_data_1 = np.append(error_data_1, data_1_y[x]-51.937710279659946)\n",
    "    error_data_2 = np.append(error_data_2, data_2_y[x]-51.94277777113866)\n",
    "    error_data_3 = np.append(error_data_3, data_3_y[x]-51.95291275409609)\n",
    "error_data_3"
   ]
  },
  {
   "cell_type": "code",
   "execution_count": 20,
   "id": "cc600fc1",
   "metadata": {},
   "outputs": [
    {
     "data": {
      "text/plain": [
       "1.4997870459039104"
      ]
     },
     "execution_count": 20,
     "metadata": {},
     "output_type": "execute_result"
    }
   ],
   "source": [
    "np.average(error_data_3)"
   ]
  },
  {
   "cell_type": "markdown",
   "id": "389448d8",
   "metadata": {},
   "source": [
    "Calculating std deviation of these errors"
   ]
  },
  {
   "cell_type": "code",
   "execution_count": 22,
   "id": "03dc2814",
   "metadata": {},
   "outputs": [
    {
     "data": {
      "text/plain": [
       "2.9657597044817003"
      ]
     },
     "execution_count": 22,
     "metadata": {},
     "output_type": "execute_result"
    }
   ],
   "source": [
    "import math \n",
    "temp1 = 0.00\n",
    "temp2 = 0.00\n",
    "temp3 = 0.00\n",
    "for x in range(25):\n",
    "    temp1 += (error_data_1[x])**2\n",
    "    temp2 += (error_data_2[x])**2\n",
    "    temp3 += (error_data_3[x])**2\n",
    "std_deviation_error_1 = math.sqrt(temp1/25)\n",
    "std_deviation_error_2 = math.sqrt(temp2/25)\n",
    "std_deviation_error_3 = math.sqrt(temp3/25)\n",
    "std_deviation_error_1"
   ]
  },
  {
   "cell_type": "code",
   "execution_count": 33,
   "id": "25602326",
   "metadata": {},
   "outputs": [
    {
     "data": {
      "text/plain": [
       "1.635624983390852"
      ]
     },
     "execution_count": 33,
     "metadata": {},
     "output_type": "execute_result"
    }
   ],
   "source": [
    "import math\n",
    "temp1 = 0.00\n",
    "temp2 = 0.00\n",
    "temp3 = 0.00\n",
    "for x in range(25):\n",
    "    temp1 += (error_data_1[x]+2.7)**2\n",
    "    temp2 += (error_data_2[x]+1.1)**2\n",
    "    temp3 += (error_data_3[x]-1.5)**2\n",
    "std_deviation_error_1_prime = math.sqrt(temp1/25)\n",
    "std_deviation_error_2_prime = math.sqrt(temp2/25)\n",
    "std_deviation_error_3_prime = math.sqrt(temp3/25)\n",
    "std_deviation_error_2_prime"
   ]
  },
  {
   "cell_type": "code",
   "execution_count": null,
   "id": "e40526ec",
   "metadata": {},
   "outputs": [],
   "source": []
  }
 ],
 "metadata": {
  "kernelspec": {
   "display_name": "Python 3",
   "language": "python",
   "name": "python3"
  },
  "language_info": {
   "codemirror_mode": {
    "name": "ipython",
    "version": 3
   },
   "file_extension": ".py",
   "mimetype": "text/x-python",
   "name": "python",
   "nbconvert_exporter": "python",
   "pygments_lexer": "ipython3",
   "version": "3.8.8"
  }
 },
 "nbformat": 4,
 "nbformat_minor": 5
}
