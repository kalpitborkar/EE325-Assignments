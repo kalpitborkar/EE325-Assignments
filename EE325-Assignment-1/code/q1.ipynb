{
 "cells": [
  {
   "cell_type": "code",
   "execution_count": 2,
   "id": "ed68b0a9",
   "metadata": {},
   "outputs": [],
   "source": [
    "from array import *"
   ]
  },
  {
   "cell_type": "code",
   "execution_count": 3,
   "id": "4f277661",
   "metadata": {},
   "outputs": [],
   "source": [
    "import numpy as np"
   ]
  },
  {
   "cell_type": "code",
   "execution_count": 4,
   "id": "77b870bf",
   "metadata": {},
   "outputs": [],
   "source": [
    "import random"
   ]
  },
  {
   "cell_type": "code",
   "execution_count": 5,
   "id": "a4ae82a2",
   "metadata": {},
   "outputs": [],
   "source": [
    "import matplotlib.pyplot as plt\n",
    "%matplotlib inline"
   ]
  },
  {
   "cell_type": "code",
   "execution_count": 6,
   "id": "d8c7046b",
   "metadata": {},
   "outputs": [],
   "source": [
    "f=open('hw1aprime.txt')\n",
    "lines=f.readlines()"
   ]
  },
  {
   "cell_type": "code",
   "execution_count": 7,
   "id": "2c29e711",
   "metadata": {},
   "outputs": [
    {
     "name": "stdout",
     "output_type": "stream",
     "text": [
      "113.7549109250084\n",
      "\n",
      "121.46284503239156\n",
      "\n",
      "131.22128819801264\n",
      "\n",
      "140.36435553141064\n",
      "\n",
      "92.87334199419963\n",
      "\n"
     ]
    }
   ],
   "source": [
    "for x in range(5):\n",
    "    print(lines[x])"
   ]
  },
  {
   "cell_type": "markdown",
   "id": "6b416832",
   "metadata": {},
   "source": [
    "method 1: first k students "
   ]
  },
  {
   "cell_type": "code",
   "execution_count": 8,
   "id": "fc4201e6",
   "metadata": {},
   "outputs": [],
   "source": [
    "data = np.array([])\n",
    "for x in range(200): #value of k in parenthesis\n",
    "    data = np.append(data, float(lines[x]))\n",
    "    "
   ]
  },
  {
   "cell_type": "code",
   "execution_count": 9,
   "id": "898cb7d7",
   "metadata": {},
   "outputs": [
    {
     "data": {
      "text/plain": [
       "array([113.75491093, 121.46284503, 131.2212882 , 140.36435553,\n",
       "        92.87334199, 106.01871365, 113.5924137 , 116.36282741,\n",
       "       120.90623857, 122.46685616, 122.88792707, 126.34215628,\n",
       "       102.91080771, 107.02553033, 111.9529638 , 117.48493282,\n",
       "       118.57832526, 151.90643202, 163.92050549,  78.60034952,\n",
       "        93.48699264, 108.69262686, 112.22139973, 115.79005282,\n",
       "       117.99268933, 118.86800893, 126.5171528 , 143.83570242,\n",
       "       147.24818417,  96.55549589,  98.54338793, 106.47126648,\n",
       "       118.6123623 , 122.38511011, 137.8923298 ,  93.18798641,\n",
       "        99.14441211, 101.58108666, 122.79682538, 128.26731618,\n",
       "       158.39570128,  88.34638068, 102.00637634, 105.51817174,\n",
       "       117.32779787, 130.43469837, 144.10078954, 144.67443751,\n",
       "       154.45117659, 161.99313832, 107.07827206, 121.88301469,\n",
       "       122.24975806, 123.20994721,  83.38965866, 105.24571599,\n",
       "       116.8347    , 142.5532261 ,  89.0697753 ,  96.04298943,\n",
       "       104.60691217, 125.50755014, 144.39608836,  78.10048284,\n",
       "        80.92788017, 107.92940603, 122.82182729, 123.7424221 ,\n",
       "       126.12530947, 137.41969743, 149.69800574,  97.93896145,\n",
       "       103.28209011, 108.43474622, 110.74507171, 111.99370294,\n",
       "       133.43169329, 134.35556268, 134.52501962, 135.82056426,\n",
       "       139.84980566, 142.5533523 , 113.1510677 , 116.01068669,\n",
       "       121.65962658, 122.62250917, 125.48893998, 126.41319725,\n",
       "       132.93778386, 137.59896525, 148.97633345, 160.3133565 ,\n",
       "       100.48627781, 114.61448726, 129.93386799, 145.93867093,\n",
       "       146.99920575,  88.07345568,  98.58416066, 108.60846938,\n",
       "       117.55971727, 117.79463803, 147.13846843,  98.68348237,\n",
       "       100.77820151, 102.7453367 , 104.18985211, 104.53113372,\n",
       "       100.66087146, 102.63416943, 116.74119831, 118.46980486,\n",
       "       127.30170548, 133.62449559, 137.59414173,  97.68786577,\n",
       "        99.28343955, 100.14291944, 104.60900655, 104.94713784,\n",
       "       107.00604579, 116.2986743 , 118.64033248, 125.32692633,\n",
       "       126.60622413,  71.52200103, 116.00980417, 117.75249798,\n",
       "       128.62513462, 129.94554137, 147.72942025,  98.91655615,\n",
       "       117.76213365, 127.4738625 , 131.38599027,  89.85552664,\n",
       "        96.5372295 , 121.46833865, 122.18795743, 124.84332585,\n",
       "       106.53904384, 124.52763348, 132.41841907, 142.1794747 ,\n",
       "        96.22604654, 103.49901858, 121.8132573 , 132.88212827,\n",
       "       108.30806685, 115.72802477, 123.53845984, 127.53588243,\n",
       "       129.71913486, 135.77041744, 136.29105585, 143.14718917,\n",
       "       145.80047553, 106.95316896, 141.15470742, 148.13162361,\n",
       "       149.86072623, 153.36950555, 166.77223415, 101.25854846,\n",
       "       107.0325022 , 110.40039271, 110.51865636, 111.162649  ,\n",
       "       118.6033904 , 125.79996831, 126.06885066, 128.65528261,\n",
       "       140.09097529, 174.91601558, 124.62598017, 132.32864041,\n",
       "       144.4527908 , 147.16149228, 149.7745591 , 106.0534285 ,\n",
       "       123.11217569, 129.05392181, 155.49997833, 108.22428109,\n",
       "       113.71299749, 116.6383886 , 117.86470405, 121.93553606,\n",
       "       125.48747837, 135.72531568, 146.56998443, 149.44314424,\n",
       "       161.9782171 , 103.1852669 , 103.85918166, 108.89755379,\n",
       "       110.89210907, 116.52957675, 117.10508132, 120.23532933])"
      ]
     },
     "execution_count": 9,
     "metadata": {},
     "output_type": "execute_result"
    }
   ],
   "source": [
    "data"
   ]
  },
  {
   "cell_type": "code",
   "execution_count": 10,
   "id": "7170fce0",
   "metadata": {},
   "outputs": [
    {
     "data": {
      "text/plain": [
       "121.04089099136371"
      ]
     },
     "execution_count": 10,
     "metadata": {},
     "output_type": "execute_result"
    }
   ],
   "source": [
    "method_1_data_avg = np.average(data)\n",
    "method_1_data_avg"
   ]
  },
  {
   "cell_type": "markdown",
   "id": "e1940417",
   "metadata": {},
   "source": [
    "Final data for method_1 / scatter plot"
   ]
  },
  {
   "cell_type": "code",
   "execution_count": 44,
   "id": "e0e7d022",
   "metadata": {},
   "outputs": [
    {
     "data": {
      "text/plain": [
       "array([121.04089099, 121.04089099, 121.04089099, 121.04089099,\n",
       "       121.04089099, 121.04089099, 121.04089099, 121.04089099,\n",
       "       121.04089099, 121.04089099, 121.04089099, 121.04089099,\n",
       "       121.04089099, 121.04089099, 121.04089099, 121.04089099,\n",
       "       121.04089099, 121.04089099, 121.04089099, 121.04089099,\n",
       "       121.04089099, 121.04089099, 121.04089099, 121.04089099,\n",
       "       121.04089099, 121.04089099, 121.04089099, 121.04089099,\n",
       "       121.04089099, 121.04089099, 121.04089099, 121.04089099,\n",
       "       121.04089099, 121.04089099, 121.04089099, 121.04089099,\n",
       "       121.04089099, 121.04089099, 121.04089099, 121.04089099,\n",
       "       121.04089099, 121.04089099, 121.04089099, 121.04089099,\n",
       "       121.04089099, 121.04089099, 121.04089099, 121.04089099,\n",
       "       121.04089099, 121.04089099])"
      ]
     },
     "execution_count": 44,
     "metadata": {},
     "output_type": "execute_result"
    }
   ],
   "source": [
    "import math\n",
    "k = 200 #value of k\n",
    "method_1_data_avg_50_values = np.array([])\n",
    "method_1_data_std_deviation_50_values = np.array([])\n",
    "for y in range(50):\n",
    "    data = np.array([])\n",
    "    for x in range(k): #value of k in parenthesis\n",
    "        data = np.append(data, float(lines[x]))\n",
    "    method_1_data_avg = np.average(data)\n",
    "    temp = 0.00\n",
    "    for x in range(k):#value of k in parenthesis\n",
    "        temp = temp + (data[x]-method_1_data_avg)**2\n",
    "    method_1_std_deviation = math.sqrt(temp/k)#value of k in parenthesis\n",
    "    method_1_data_avg_50_values = np.append(method_1_data_avg_50_values, method_1_data_avg)\n",
    "    method_1_data_std_deviation_50_values = np.append(method_1_data_std_deviation_50_values, method_1_std_deviation)\n",
    "method_1_data_avg_50_values"
   ]
  },
  {
   "cell_type": "markdown",
   "id": "15da0cdc",
   "metadata": {},
   "source": [
    "std deviation method 1 (final)"
   ]
  },
  {
   "cell_type": "code",
   "execution_count": 45,
   "id": "1d059a44",
   "metadata": {},
   "outputs": [
    {
     "data": {
      "text/plain": [
       "18.893054767046895"
      ]
     },
     "execution_count": 45,
     "metadata": {},
     "output_type": "execute_result"
    }
   ],
   "source": [
    "np.average(method_1_data_std_deviation_50_values)"
   ]
  },
  {
   "cell_type": "markdown",
   "id": "7c5a3710",
   "metadata": {},
   "source": [
    "std deviation for method 1"
   ]
  },
  {
   "cell_type": "code",
   "execution_count": 12,
   "id": "c8190cec",
   "metadata": {},
   "outputs": [
    {
     "ename": "IndexError",
     "evalue": "index 10 is out of bounds for axis 0 with size 10",
     "output_type": "error",
     "traceback": [
      "\u001b[1;31m---------------------------------------------------------------------------\u001b[0m",
      "\u001b[1;31mIndexError\u001b[0m                                Traceback (most recent call last)",
      "\u001b[1;32m<ipython-input-12-26d103e4950c>\u001b[0m in \u001b[0;36m<module>\u001b[1;34m\u001b[0m\n\u001b[0;32m      2\u001b[0m \u001b[0mtemp\u001b[0m \u001b[1;33m=\u001b[0m \u001b[1;36m0.00\u001b[0m\u001b[1;33m\u001b[0m\u001b[1;33m\u001b[0m\u001b[0m\n\u001b[0;32m      3\u001b[0m \u001b[1;32mfor\u001b[0m \u001b[0mx\u001b[0m \u001b[1;32min\u001b[0m \u001b[0mrange\u001b[0m\u001b[1;33m(\u001b[0m\u001b[1;36m200\u001b[0m\u001b[1;33m)\u001b[0m\u001b[1;33m:\u001b[0m\u001b[1;33m\u001b[0m\u001b[1;33m\u001b[0m\u001b[0m\n\u001b[1;32m----> 4\u001b[1;33m     \u001b[0mtemp\u001b[0m \u001b[1;33m=\u001b[0m \u001b[0mtemp\u001b[0m \u001b[1;33m+\u001b[0m \u001b[1;33m(\u001b[0m\u001b[0mdata\u001b[0m\u001b[1;33m[\u001b[0m\u001b[0mx\u001b[0m\u001b[1;33m]\u001b[0m\u001b[1;33m-\u001b[0m\u001b[0mnp\u001b[0m\u001b[1;33m.\u001b[0m\u001b[0maverage\u001b[0m\u001b[1;33m(\u001b[0m\u001b[0mmethod_1_data_avg_50_values\u001b[0m\u001b[1;33m)\u001b[0m\u001b[1;33m)\u001b[0m\u001b[1;33m**\u001b[0m\u001b[1;36m2\u001b[0m\u001b[1;33m\u001b[0m\u001b[1;33m\u001b[0m\u001b[0m\n\u001b[0m\u001b[0;32m      5\u001b[0m \u001b[0mmethod_1_std_deviation\u001b[0m \u001b[1;33m=\u001b[0m \u001b[0mmath\u001b[0m\u001b[1;33m.\u001b[0m\u001b[0msqrt\u001b[0m\u001b[1;33m(\u001b[0m\u001b[0mtemp\u001b[0m\u001b[1;33m/\u001b[0m\u001b[1;36m200\u001b[0m\u001b[1;33m)\u001b[0m\u001b[1;33m\u001b[0m\u001b[1;33m\u001b[0m\u001b[0m\n\u001b[0;32m      6\u001b[0m \u001b[0mmethod_1_std_deviation\u001b[0m\u001b[1;33m\u001b[0m\u001b[1;33m\u001b[0m\u001b[0m\n",
      "\u001b[1;31mIndexError\u001b[0m: index 10 is out of bounds for axis 0 with size 10"
     ]
    }
   ],
   "source": [
    "import math\n",
    "temp = 0.00\n",
    "for x in range(200):\n",
    "    temp = temp + (data[x]-np.average(method_1_data_avg_50_values))**2\n",
    "method_1_std_deviation = math.sqrt(temp/200)\n",
    "method_1_std_deviation"
   ]
  },
  {
   "cell_type": "code",
   "execution_count": 13,
   "id": "7b7697e5",
   "metadata": {},
   "outputs": [
    {
     "data": {
      "text/plain": [
       "<matplotlib.collections.PathCollection at 0x2a06642ba30>"
      ]
     },
     "execution_count": 13,
     "metadata": {},
     "output_type": "execute_result"
    },
    {
     "data": {
      "image/png": "[encoded data removed]",
      "text/plain": [
       "<Figure size 432x288 with 1 Axes>"
      ]
     },
     "metadata": {
      "needs_background": "light"
     },
     "output_type": "display_data"
    }
   ],
   "source": [
    "n = np.arange(1,51)\n",
    "plt.scatter(n, method_1_data_avg_50_values)"
   ]
  },
  {
   "cell_type": "markdown",
   "id": "63f6c161",
   "metadata": {},
   "source": [
    "method 2 : k students from a between"
   ]
  },
  {
   "cell_type": "code",
   "execution_count": 14,
   "id": "198ece24",
   "metadata": {},
   "outputs": [
    {
     "data": {
      "text/plain": [
       "5943"
      ]
     },
     "execution_count": 14,
     "metadata": {},
     "output_type": "execute_result"
    }
   ],
   "source": [
    "data = np.array([])\n",
    "n = random.randint(0,10000) # n = from which point onwards to collect data\n",
    "for x in range(200): #value of k in parenthesis\n",
    "    data = np.append(data, float(lines[x+n-1]))\n",
    "n"
   ]
  },
  {
   "cell_type": "code",
   "execution_count": 15,
   "id": "280d0c10",
   "metadata": {},
   "outputs": [
    {
     "data": {
      "text/plain": [
       "array([122.79849722, 124.32675541, 126.14324095, 128.01883723,\n",
       "       132.45321995,  90.46101938,  96.07675478, 127.30272767,\n",
       "       146.00687524, 149.39792783, 151.53613496, 106.52484847,\n",
       "       130.50648614, 140.42386401, 142.33032931, 148.33972999,\n",
       "       163.84388254,  86.5485211 , 105.61361237, 110.53756188,\n",
       "       118.69614484, 124.9727159 , 131.40207703, 141.0955935 ,\n",
       "        90.13594293, 117.08235555, 139.93929881, 140.87023274,\n",
       "        95.79631522, 105.54843732, 110.12484232, 120.18557704,\n",
       "       127.57379573, 132.64738286, 115.39346138, 120.7055735 ,\n",
       "       120.98944461, 122.891627  , 126.23312116, 127.19018818,\n",
       "       144.82005133,  87.62201478, 105.84651558, 110.11259507,\n",
       "       114.2831356 , 116.45993509, 116.50001555, 124.9615313 ,\n",
       "       131.81377282, 141.61280889, 158.4228082 ,  94.39659186,\n",
       "       107.92906917, 109.74517666, 113.30451018, 119.53826682,\n",
       "       120.46560889, 134.09843285, 143.40921022, 150.52675295,\n",
       "       160.78923492,  95.73910349, 119.95973057, 130.25037339,\n",
       "       141.03737404, 149.16413905, 100.62810267, 118.46507628,\n",
       "       121.74718851, 142.46417195, 104.49697223, 110.44253267,\n",
       "       113.31974746, 121.03913481,  59.00352867,  78.01939846,\n",
       "        91.13063592,  92.37758393,  94.88731307, 105.86520405,\n",
       "       111.85173523, 126.61457975, 130.30673166, 140.78488793,\n",
       "        69.27173952,  87.49741838, 109.46386837, 115.11717497,\n",
       "       127.37093933, 128.40020346, 129.13478244, 130.98222435,\n",
       "       132.20128552,  88.83308529,  92.49106468, 121.72367587,\n",
       "       123.20241342, 125.00240649, 143.38951641,  99.43516477,\n",
       "       116.14956986, 120.73054235, 124.48200093, 125.92479411,\n",
       "       132.87185592,  95.36063632,  96.20880867, 109.77122211,\n",
       "       110.49207602, 116.52390111, 120.22951582, 129.7389889 ,\n",
       "       131.03866047, 131.99208085, 132.98655339,  89.52190368,\n",
       "       107.05336916, 146.62505219, 151.25845245, 104.65534113,\n",
       "       112.08138185, 114.18330879, 119.30131764, 128.08625833,\n",
       "       145.1360296 , 155.51806356,  79.50579107, 114.06757791,\n",
       "       122.72720757, 131.62953474, 138.35019731, 138.83300976,\n",
       "       106.53594602, 110.16004876, 116.43354272, 124.64088455,\n",
       "       129.79451143, 135.77801543, 136.83434529, 136.86542248,\n",
       "       138.26803853, 144.8630686 , 149.46539488,  83.74646542,\n",
       "       120.185379  , 121.76352627, 129.40841361, 159.40388987,\n",
       "        94.00727116, 123.69972927, 138.19448486, 151.32618857,\n",
       "        85.18072832,  86.27154616, 111.13886648, 119.3173266 ,\n",
       "       153.52002418,  95.60213793, 101.32591822, 105.05894943,\n",
       "       108.86333206, 121.8860515 , 130.31510631, 134.06333223,\n",
       "       136.04938385, 138.20027461, 156.60039591,  94.46267596,\n",
       "       101.7895845 , 105.88847243, 117.38822302, 125.19751062,\n",
       "        90.63334294, 102.13243658, 137.76944438, 145.61591502,\n",
       "       169.32254842,  94.7901279 ,  98.69547742, 114.99702796,\n",
       "       127.68659419, 131.88864569, 133.40877764, 105.34776254,\n",
       "       130.61400613, 132.62180888, 141.67941927, 142.79203431,\n",
       "       152.13511507,  94.5336486 ,  99.02017664, 105.01956927,\n",
       "       105.18777964, 116.53482932, 119.16350554, 120.6566228 ,\n",
       "       122.21523087, 130.86344238, 139.79138272,  74.60874887])"
      ]
     },
     "execution_count": 15,
     "metadata": {},
     "output_type": "execute_result"
    }
   ],
   "source": [
    "data"
   ]
  },
  {
   "cell_type": "code",
   "execution_count": 16,
   "id": "dd818c8b",
   "metadata": {},
   "outputs": [
    {
     "data": {
      "text/plain": [
       "120.70345016707923"
      ]
     },
     "execution_count": 16,
     "metadata": {},
     "output_type": "execute_result"
    }
   ],
   "source": [
    "method_2_data_avg = np.average(data)\n",
    "method_2_data_avg"
   ]
  },
  {
   "cell_type": "markdown",
   "id": "5fb7ab82",
   "metadata": {},
   "source": [
    "Final data for method_2 / scatter plot"
   ]
  },
  {
   "cell_type": "code",
   "execution_count": 87,
   "id": "3d9215c3",
   "metadata": {},
   "outputs": [
    {
     "data": {
      "text/plain": [
       "array([120.56109786, 117.36660852, 121.61657672, 120.5723857 ,\n",
       "       121.04572574, 119.09413232, 118.6151597 , 120.90725943,\n",
       "       121.88113409, 118.42113103, 117.90096347, 117.77936066,\n",
       "       121.18124628, 121.75929717, 122.4637075 , 119.58623126,\n",
       "       119.78954928, 119.70609468, 120.81110535, 118.97985624,\n",
       "       118.95112323, 119.56579386, 122.11512889, 120.6360181 ,\n",
       "       119.83163169, 120.14276252, 121.28634021, 118.01488691,\n",
       "       119.01649221, 119.94934444, 119.37407838, 117.85845559,\n",
       "       121.14394581, 120.10768664, 121.96254197, 118.83179028,\n",
       "       118.97985624, 121.7017446 , 119.17242751, 120.29491051,\n",
       "       119.30249735, 118.00747506, 119.62594535, 117.85581421,\n",
       "       120.87578912, 120.51385505, 118.72800296, 119.28693043,\n",
       "       119.39720941, 119.43283287])"
      ]
     },
     "execution_count": 87,
     "metadata": {},
     "output_type": "execute_result"
    }
   ],
   "source": [
    "import math\n",
    "k = 200 #value of k\n",
    "method_2_data_avg_50_values = np.array([])\n",
    "method_2_data_std_deviation_50_values = np.array([])\n",
    "for y in range(50):\n",
    "    data = np.array([])\n",
    "    n = random.randint(0,10000) # n = from which point onwards to collect data\n",
    "    for x in range(k): #value of k in parenthesis\n",
    "        data = np.append(data, float(lines[x+n-1]))\n",
    "    method_2_data_avg = np.average(data)\n",
    "    temp = 0.00\n",
    "    for x in range(k):#value of k in parenthesis\n",
    "        temp = temp + (data[x]-method_2_data_avg)**2\n",
    "    method_2_std_deviation = math.sqrt(temp/k)#value of k in parenthesis\n",
    "    method_2_data_avg_50_values = np.append(method_2_data_avg_50_values, method_2_data_avg)\n",
    "    method_2_data_std_deviation_50_values = np.append(method_2_data_std_deviation_50_values, method_2_std_deviation)\n",
    "method_2_data_avg_50_values"
   ]
  },
  {
   "cell_type": "markdown",
   "id": "b07b38b8",
   "metadata": {},
   "source": [
    "method 2 std deviation (final)"
   ]
  },
  {
   "cell_type": "code",
   "execution_count": 88,
   "id": "5c32281d",
   "metadata": {},
   "outputs": [
    {
     "data": {
      "text/plain": [
       "19.72831101500938"
      ]
     },
     "execution_count": 88,
     "metadata": {},
     "output_type": "execute_result"
    }
   ],
   "source": [
    "np.average(method_2_data_std_deviation_50_values)"
   ]
  },
  {
   "cell_type": "markdown",
   "id": "88f2e974",
   "metadata": {},
   "source": [
    "method 2 : average of 50 samples "
   ]
  },
  {
   "cell_type": "code",
   "execution_count": 18,
   "id": "77bc645e",
   "metadata": {},
   "outputs": [
    {
     "data": {
      "text/plain": [
       "120.23106541098035"
      ]
     },
     "execution_count": 18,
     "metadata": {},
     "output_type": "execute_result"
    }
   ],
   "source": [
    "np.average(method_2_data_avg_50_values)"
   ]
  },
  {
   "cell_type": "markdown",
   "id": "c561d888",
   "metadata": {},
   "source": [
    "std deviation for method 2"
   ]
  },
  {
   "cell_type": "code",
   "execution_count": 19,
   "id": "74ecd334",
   "metadata": {},
   "outputs": [
    {
     "data": {
      "text/plain": [
       "20.327046499277937"
      ]
     },
     "execution_count": 19,
     "metadata": {},
     "output_type": "execute_result"
    }
   ],
   "source": [
    "import math\n",
    "temp = 0.00\n",
    "for x in range(200):\n",
    "    temp = temp + (data[x]-np.average(method_2_data_avg_50_values))**2\n",
    "method_2_std_deviation = math.sqrt(temp/200)\n",
    "method_2_std_deviation"
   ]
  },
  {
   "cell_type": "code",
   "execution_count": 20,
   "id": "e84686a1",
   "metadata": {},
   "outputs": [
    {
     "data": {
      "text/plain": [
       "<matplotlib.collections.PathCollection at 0x2a066bb2be0>"
      ]
     },
     "execution_count": 20,
     "metadata": {},
     "output_type": "execute_result"
    },
    {
     "data": {
      "image/png": "[encoded data removed]",
      "text/plain": [
       "<Figure size 432x288 with 1 Axes>"
      ]
     },
     "metadata": {
      "needs_background": "light"
     },
     "output_type": "display_data"
    }
   ],
   "source": [
    "n = np.arange(1,51)\n",
    "plt.scatter(n, method_2_data_avg_50_values)"
   ]
  },
  {
   "cell_type": "markdown",
   "id": "8301f90a",
   "metadata": {},
   "source": [
    "method 3 : distinct random students"
   ]
  },
  {
   "cell_type": "code",
   "execution_count": 21,
   "id": "ebfaa2ad",
   "metadata": {},
   "outputs": [
    {
     "data": {
      "text/plain": [
       "[8999,\n",
       " 302,\n",
       " 7627,\n",
       " 932,\n",
       " 8647,\n",
       " 4006,\n",
       " 3209,\n",
       " 479,\n",
       " 5353,\n",
       " 6357,\n",
       " 2988,\n",
       " 3399,\n",
       " 5132,\n",
       " 1940,\n",
       " 2737,\n",
       " 6135,\n",
       " 9366,\n",
       " 8378,\n",
       " 4042,\n",
       " 4383,\n",
       " 827,\n",
       " 2063,\n",
       " 4336,\n",
       " 744,\n",
       " 9095,\n",
       " 5314,\n",
       " 5430,\n",
       " 8518,\n",
       " 6101,\n",
       " 9093,\n",
       " 6305,\n",
       " 3315,\n",
       " 8753,\n",
       " 3354,\n",
       " 9984,\n",
       " 7206,\n",
       " 6746,\n",
       " 8115,\n",
       " 8355,\n",
       " 8061,\n",
       " 2634,\n",
       " 799,\n",
       " 9880,\n",
       " 2365,\n",
       " 2120,\n",
       " 3691,\n",
       " 6540,\n",
       " 5839,\n",
       " 1553,\n",
       " 2228,\n",
       " 3383,\n",
       " 2833,\n",
       " 5193,\n",
       " 6374,\n",
       " 6646,\n",
       " 4407,\n",
       " 8052,\n",
       " 8931,\n",
       " 4311,\n",
       " 6846,\n",
       " 4704,\n",
       " 7975,\n",
       " 5511,\n",
       " 2050,\n",
       " 4501,\n",
       " 6375,\n",
       " 217,\n",
       " 2340,\n",
       " 8372,\n",
       " 7840,\n",
       " 9243,\n",
       " 4737,\n",
       " 849,\n",
       " 5699,\n",
       " 2204,\n",
       " 36,\n",
       " 5285,\n",
       " 40,\n",
       " 6582,\n",
       " 2654,\n",
       " 9007,\n",
       " 6553,\n",
       " 5517,\n",
       " 7362,\n",
       " 4394,\n",
       " 9631,\n",
       " 1313,\n",
       " 9725,\n",
       " 5321,\n",
       " 1653,\n",
       " 6010,\n",
       " 7612,\n",
       " 9602,\n",
       " 8492,\n",
       " 8510,\n",
       " 249,\n",
       " 3263,\n",
       " 7417,\n",
       " 7751,\n",
       " 1975,\n",
       " 2525,\n",
       " 868,\n",
       " 5460,\n",
       " 1128,\n",
       " 9085,\n",
       " 7575,\n",
       " 7831,\n",
       " 9116,\n",
       " 3001,\n",
       " 7711,\n",
       " 2396,\n",
       " 1480,\n",
       " 5377,\n",
       " 5875,\n",
       " 3695,\n",
       " 4399,\n",
       " 9082,\n",
       " 8674,\n",
       " 7767,\n",
       " 6230,\n",
       " 4901,\n",
       " 1604,\n",
       " 1216,\n",
       " 6176,\n",
       " 7837,\n",
       " 9003,\n",
       " 5089,\n",
       " 1711,\n",
       " 6742,\n",
       " 8881,\n",
       " 2697,\n",
       " 3110,\n",
       " 9142,\n",
       " 5396,\n",
       " 9736,\n",
       " 4629,\n",
       " 9196,\n",
       " 4974,\n",
       " 8315,\n",
       " 4716,\n",
       " 3632,\n",
       " 8807,\n",
       " 8666,\n",
       " 9886,\n",
       " 1668,\n",
       " 7723,\n",
       " 5570,\n",
       " 457,\n",
       " 75,\n",
       " 822,\n",
       " 3515,\n",
       " 2327,\n",
       " 2350,\n",
       " 7846,\n",
       " 6443,\n",
       " 185,\n",
       " 7686,\n",
       " 9310,\n",
       " 248,\n",
       " 522,\n",
       " 7829,\n",
       " 4268,\n",
       " 8667,\n",
       " 8867,\n",
       " 9008,\n",
       " 3749,\n",
       " 544,\n",
       " 8224,\n",
       " 2548,\n",
       " 4496,\n",
       " 2901,\n",
       " 5169,\n",
       " 665,\n",
       " 3908,\n",
       " 9251,\n",
       " 1351,\n",
       " 7654,\n",
       " 4975,\n",
       " 4522,\n",
       " 5618,\n",
       " 290,\n",
       " 2726,\n",
       " 4801,\n",
       " 8819,\n",
       " 7063,\n",
       " 8746,\n",
       " 7050,\n",
       " 7959,\n",
       " 395,\n",
       " 9298,\n",
       " 4855,\n",
       " 1193,\n",
       " 7598,\n",
       " 1620,\n",
       " 3638,\n",
       " 1775,\n",
       " 7528,\n",
       " 7664,\n",
       " 2497,\n",
       " 7129]"
      ]
     },
     "execution_count": 21,
     "metadata": {},
     "output_type": "execute_result"
    }
   ],
   "source": [
    "data = np.array([])\n",
    "k  = 200 #number of samples\n",
    "n = random.sample(range(1, 10000), k) #k distinct values\n",
    "for x in n:\n",
    "    data = np.append(data, float(lines[x]))\n",
    "n"
   ]
  },
  {
   "cell_type": "code",
   "execution_count": 22,
   "id": "5d60372b",
   "metadata": {},
   "outputs": [
    {
     "data": {
      "text/plain": [
       "array([137.12612376, 103.56046586, 145.36906412, 121.80252789,\n",
       "       134.48999454, 120.30198067, 100.77700997, 114.8062588 ,\n",
       "       142.36783139, 134.31176765, 115.18709545, 113.44410255,\n",
       "       148.6471292 , 122.38905488, 140.97155076, 116.53482932,\n",
       "        83.27548291, 109.80483649, 116.57377424, 112.73212575,\n",
       "       139.06443538, 106.9301549 ,  86.46041252, 139.91872651,\n",
       "       161.52404485, 134.97395045, 126.36458511, 112.74130477,\n",
       "       105.05894943, 149.11530657, 113.89324496, 142.89799378,\n",
       "       150.79143123, 122.14786044, 140.30901128, 126.04151311,\n",
       "       105.056716  , 131.15683561, 141.51234484,  99.2941755 ,\n",
       "       112.45002019, 103.97824332, 110.00170132, 132.68860344,\n",
       "       118.90670594, 118.20276852, 133.03323005,  91.72765058,\n",
       "       170.96201942, 147.80034013, 130.6890138 , 102.17812015,\n",
       "        88.27440892, 127.12810899, 132.92445251, 133.73933373,\n",
       "       110.52856237, 110.3032613 , 111.49158568, 121.12472201,\n",
       "       113.69021337, 110.75463421, 103.73487399, 160.68980203,\n",
       "       141.28472267, 135.66860276, 105.95089867, 121.44065526,\n",
       "        80.7501363 ,  78.49522435,  82.17750283, 148.44598804,\n",
       "       102.60893553, 101.13513681, 128.82215905,  99.14441211,\n",
       "        92.69595122, 158.39570128, 158.06774861, 104.68702951,\n",
       "       125.6639162 ,  76.51891151, 107.62603468, 112.44920784,\n",
       "       127.93805786,  98.02371307, 150.23123782, 171.50444388,\n",
       "       115.76546744,  92.49957906, 121.74718851, 102.83552249,\n",
       "       160.30924519, 144.00876238,  94.78712631, 134.4586928 ,\n",
       "       106.41318141, 115.41844434, 114.34737068, 135.74988914,\n",
       "       126.64609883, 119.38513514, 107.4355552 , 128.61752415,\n",
       "       141.23841916, 124.27888101, 154.03636181,  88.61623101,\n",
       "       107.09710808, 146.2432569 , 142.3221024 , 119.32009291,\n",
       "       127.27649811, 124.46933134,  94.88742108, 108.58409464,\n",
       "       108.44991263, 142.32218642, 146.19269805, 122.22078481,\n",
       "       116.35904026, 123.21918934,  95.79092945, 126.28666395,\n",
       "       139.43023323, 108.38162449,  80.70595864,  65.7779575 ,\n",
       "        96.84465393, 113.07460206, 130.10860327, 121.48161738,\n",
       "        91.3052037 , 137.13999705, 105.16505261, 121.37868934,\n",
       "       145.10535042, 118.25986468, 117.0911905 , 132.6206019 ,\n",
       "       130.73365924, 126.5352866 , 101.52054659,  96.14090221,\n",
       "       114.58109487, 111.71972127,  70.69334859, 138.87762975,\n",
       "       111.99370294, 115.70314385, 126.92315561, 127.48776071,\n",
       "       111.03796127, 125.01249894,  90.7147461 , 116.6383886 ,\n",
       "       114.09993015,  96.93422895, 130.62018647,  96.58486558,\n",
       "       131.63865099, 130.07915262, 106.34997026,  81.07896016,\n",
       "       126.52847742, 113.41330671, 116.33342158, 144.10121744,\n",
       "       139.37416856, 141.69855749, 101.88208328, 128.96187432,\n",
       "       113.89665798, 123.81742079, 131.27809225,  98.89994613,\n",
       "       132.58011453, 143.60642994, 112.88686572, 112.50060893,\n",
       "        98.93201413, 143.03103656, 102.91021981, 112.79778109,\n",
       "       140.49343758, 138.97775374, 108.9933763 , 130.44880949,\n",
       "       158.93614481,  86.88994534, 134.90065849, 111.95446979,\n",
       "       124.14260543, 144.20681836, 121.13167291,  80.44704824,\n",
       "       104.55579006, 120.29732871,  97.73792416, 115.90566088])"
      ]
     },
     "execution_count": 22,
     "metadata": {},
     "output_type": "execute_result"
    }
   ],
   "source": [
    "data"
   ]
  },
  {
   "cell_type": "code",
   "execution_count": 23,
   "id": "36af166b",
   "metadata": {},
   "outputs": [
    {
     "data": {
      "text/plain": [
       "119.71555562796136"
      ]
     },
     "execution_count": 23,
     "metadata": {},
     "output_type": "execute_result"
    }
   ],
   "source": [
    "method_3_data_avg = np.average(data)\n",
    "method_3_data_avg"
   ]
  },
  {
   "cell_type": "markdown",
   "id": "d8b00129",
   "metadata": {},
   "source": [
    "Final data for method_3 / scatter plot"
   ]
  },
  {
   "cell_type": "code",
   "execution_count": 107,
   "id": "cc1c8682",
   "metadata": {},
   "outputs": [
    {
     "data": {
      "text/plain": [
       "array([119.18963054, 120.10128232, 118.95561246, 120.16450959,\n",
       "       120.25273542, 121.62696877, 120.11829204, 121.87671896,\n",
       "       119.29219153, 121.71542219, 116.74845226, 119.77791293,\n",
       "       120.96908168, 118.80724927, 119.91648834, 122.04975325,\n",
       "       121.32373424, 120.63126361, 117.05540052, 120.62291315,\n",
       "       116.70035862, 121.16528746, 118.94673705, 122.93043613,\n",
       "       121.24389062, 119.67370833, 116.62781623, 121.48675097,\n",
       "       120.64205189, 116.36625434, 121.34287006, 119.01357861,\n",
       "       119.06503863, 121.20508616, 121.84296375, 121.22072374,\n",
       "       121.60187419, 120.63062035, 117.64832496, 120.81926223,\n",
       "       118.78335325, 121.27309013, 120.02568773, 119.43102673,\n",
       "       122.17218966, 121.81344357, 118.07973562, 121.46872083,\n",
       "       119.78991343, 122.15603453])"
      ]
     },
     "execution_count": 107,
     "metadata": {},
     "output_type": "execute_result"
    }
   ],
   "source": [
    "import math\n",
    "k = 200 #value of k\n",
    "method_3_data_avg_50_values = np.array([])\n",
    "method_3_data_std_deviation_50_values = np.array([])\n",
    "for y in range(50):\n",
    "    data = np.array([])\n",
    "    n = random.sample(range(1, 10000), k) #k distinct values\n",
    "    for x in n:\n",
    "        data = np.append(data, float(lines[x]))\n",
    "    method_3_data_avg = np.average(data)\n",
    "    temp = 0.00\n",
    "    for x in range(k):#value of k in parenthesis\n",
    "        temp = temp + (data[x]-method_3_data_avg)**2\n",
    "    method_3_std_deviation = math.sqrt(temp/k)#value of k in parenthesis\n",
    "    method_3_data_avg_50_values = np.append(method_3_data_avg_50_values, method_3_data_avg)\n",
    "    method_3_data_std_deviation_50_values = np.append(method_3_data_std_deviation_50_values, method_3_std_deviation)\n",
    "method_3_data_avg_50_values"
   ]
  },
  {
   "cell_type": "code",
   "execution_count": 108,
   "id": "ddb132b6",
   "metadata": {},
   "outputs": [
    {
     "data": {
      "text/plain": [
       "19.78369969595034"
      ]
     },
     "execution_count": 108,
     "metadata": {},
     "output_type": "execute_result"
    }
   ],
   "source": [
    "np.average(method_3_data_std_deviation_50_values)"
   ]
  },
  {
   "cell_type": "markdown",
   "id": "64f75095",
   "metadata": {},
   "source": [
    "std deviation for method 3"
   ]
  },
  {
   "cell_type": "code",
   "execution_count": 25,
   "id": "79aa6e2d",
   "metadata": {},
   "outputs": [
    {
     "data": {
      "text/plain": [
       "20.074281913438803"
      ]
     },
     "execution_count": 25,
     "metadata": {},
     "output_type": "execute_result"
    }
   ],
   "source": [
    "import math\n",
    "temp = 0.00\n",
    "for x in range(200):\n",
    "    temp = temp + (data[x]-np.average(method_3_data_avg_50_values))**2\n",
    "method_3_std_deviation = math.sqrt(temp/200)\n",
    "method_3_std_deviation"
   ]
  },
  {
   "cell_type": "code",
   "execution_count": 26,
   "id": "3d4e550d",
   "metadata": {},
   "outputs": [
    {
     "data": {
      "text/plain": [
       "<matplotlib.collections.PathCollection at 0x2a066be0670>"
      ]
     },
     "execution_count": 26,
     "metadata": {},
     "output_type": "execute_result"
    },
    {
     "data": {
      "image/png": "[encoded data removed]",
      "text/plain": [
       "<Figure size 432x288 with 1 Axes>"
      ]
     },
     "metadata": {
      "needs_background": "light"
     },
     "output_type": "display_data"
    }
   ],
   "source": [
    "n = np.arange(1,51)\n",
    "plt.scatter(n, method_3_data_avg_50_values)"
   ]
  },
  {
   "cell_type": "markdown",
   "id": "b4bc6aa5",
   "metadata": {},
   "source": [
    "method 3 : average of 50 samples "
   ]
  },
  {
   "cell_type": "code",
   "execution_count": 27,
   "id": "ca19e65a",
   "metadata": {},
   "outputs": [
    {
     "data": {
      "text/plain": [
       "120.09948645240529"
      ]
     },
     "execution_count": 27,
     "metadata": {},
     "output_type": "execute_result"
    }
   ],
   "source": [
    "np.average(method_3_data_avg_50_values)"
   ]
  },
  {
   "cell_type": "markdown",
   "id": "d55dd0bb",
   "metadata": {},
   "source": [
    "Scatter plot"
   ]
  },
  {
   "cell_type": "code",
   "execution_count": 27,
   "id": "d83278ce",
   "metadata": {},
   "outputs": [
    {
     "ename": "ValueError",
     "evalue": "x and y must be the same size",
     "output_type": "error",
     "traceback": [
      "\u001b[1;31m---------------------------------------------------------------------------\u001b[0m",
      "\u001b[1;31mValueError\u001b[0m                                Traceback (most recent call last)",
      "\u001b[1;32m<ipython-input-27-2591738de39a>\u001b[0m in \u001b[0;36m<module>\u001b[1;34m\u001b[0m\n\u001b[0;32m      1\u001b[0m \u001b[0mk\u001b[0m \u001b[1;33m=\u001b[0m \u001b[1;36m5\u001b[0m\u001b[1;33m\u001b[0m\u001b[1;33m\u001b[0m\u001b[0m\n\u001b[0;32m      2\u001b[0m \u001b[0mn\u001b[0m \u001b[1;33m=\u001b[0m \u001b[0mnp\u001b[0m\u001b[1;33m.\u001b[0m\u001b[0marange\u001b[0m\u001b[1;33m(\u001b[0m\u001b[1;36m1\u001b[0m\u001b[1;33m,\u001b[0m\u001b[0mk\u001b[0m\u001b[1;33m+\u001b[0m\u001b[1;36m1\u001b[0m\u001b[1;33m)\u001b[0m\u001b[1;33m\u001b[0m\u001b[1;33m\u001b[0m\u001b[0m\n\u001b[1;32m----> 3\u001b[1;33m \u001b[0mplt\u001b[0m\u001b[1;33m.\u001b[0m\u001b[0mscatter\u001b[0m\u001b[1;33m(\u001b[0m\u001b[0mn\u001b[0m\u001b[1;33m,\u001b[0m \u001b[0mdata\u001b[0m\u001b[1;33m)\u001b[0m\u001b[1;33m\u001b[0m\u001b[1;33m\u001b[0m\u001b[0m\n\u001b[0m",
      "\u001b[1;32mD:\\Anaconda\\Installed\\lib\\site-packages\\matplotlib\\pyplot.py\u001b[0m in \u001b[0;36mscatter\u001b[1;34m(x, y, s, c, marker, cmap, norm, vmin, vmax, alpha, linewidths, verts, edgecolors, plotnonfinite, data, **kwargs)\u001b[0m\n\u001b[0;32m   2888\u001b[0m         \u001b[0mverts\u001b[0m\u001b[1;33m=\u001b[0m\u001b[0mcbook\u001b[0m\u001b[1;33m.\u001b[0m\u001b[0mdeprecation\u001b[0m\u001b[1;33m.\u001b[0m\u001b[0m_deprecated_parameter\u001b[0m\u001b[1;33m,\u001b[0m\u001b[1;33m\u001b[0m\u001b[1;33m\u001b[0m\u001b[0m\n\u001b[0;32m   2889\u001b[0m         edgecolors=None, *, plotnonfinite=False, data=None, **kwargs):\n\u001b[1;32m-> 2890\u001b[1;33m     __ret = gca().scatter(\n\u001b[0m\u001b[0;32m   2891\u001b[0m         \u001b[0mx\u001b[0m\u001b[1;33m,\u001b[0m \u001b[0my\u001b[0m\u001b[1;33m,\u001b[0m \u001b[0ms\u001b[0m\u001b[1;33m=\u001b[0m\u001b[0ms\u001b[0m\u001b[1;33m,\u001b[0m \u001b[0mc\u001b[0m\u001b[1;33m=\u001b[0m\u001b[0mc\u001b[0m\u001b[1;33m,\u001b[0m \u001b[0mmarker\u001b[0m\u001b[1;33m=\u001b[0m\u001b[0mmarker\u001b[0m\u001b[1;33m,\u001b[0m \u001b[0mcmap\u001b[0m\u001b[1;33m=\u001b[0m\u001b[0mcmap\u001b[0m\u001b[1;33m,\u001b[0m \u001b[0mnorm\u001b[0m\u001b[1;33m=\u001b[0m\u001b[0mnorm\u001b[0m\u001b[1;33m,\u001b[0m\u001b[1;33m\u001b[0m\u001b[1;33m\u001b[0m\u001b[0m\n\u001b[0;32m   2892\u001b[0m         \u001b[0mvmin\u001b[0m\u001b[1;33m=\u001b[0m\u001b[0mvmin\u001b[0m\u001b[1;33m,\u001b[0m \u001b[0mvmax\u001b[0m\u001b[1;33m=\u001b[0m\u001b[0mvmax\u001b[0m\u001b[1;33m,\u001b[0m \u001b[0malpha\u001b[0m\u001b[1;33m=\u001b[0m\u001b[0malpha\u001b[0m\u001b[1;33m,\u001b[0m \u001b[0mlinewidths\u001b[0m\u001b[1;33m=\u001b[0m\u001b[0mlinewidths\u001b[0m\u001b[1;33m,\u001b[0m\u001b[1;33m\u001b[0m\u001b[1;33m\u001b[0m\u001b[0m\n",
      "\u001b[1;32mD:\\Anaconda\\Installed\\lib\\site-packages\\matplotlib\\__init__.py\u001b[0m in \u001b[0;36minner\u001b[1;34m(ax, data, *args, **kwargs)\u001b[0m\n\u001b[0;32m   1445\u001b[0m     \u001b[1;32mdef\u001b[0m \u001b[0minner\u001b[0m\u001b[1;33m(\u001b[0m\u001b[0max\u001b[0m\u001b[1;33m,\u001b[0m \u001b[1;33m*\u001b[0m\u001b[0margs\u001b[0m\u001b[1;33m,\u001b[0m \u001b[0mdata\u001b[0m\u001b[1;33m=\u001b[0m\u001b[1;32mNone\u001b[0m\u001b[1;33m,\u001b[0m \u001b[1;33m**\u001b[0m\u001b[0mkwargs\u001b[0m\u001b[1;33m)\u001b[0m\u001b[1;33m:\u001b[0m\u001b[1;33m\u001b[0m\u001b[1;33m\u001b[0m\u001b[0m\n\u001b[0;32m   1446\u001b[0m         \u001b[1;32mif\u001b[0m \u001b[0mdata\u001b[0m \u001b[1;32mis\u001b[0m \u001b[1;32mNone\u001b[0m\u001b[1;33m:\u001b[0m\u001b[1;33m\u001b[0m\u001b[1;33m\u001b[0m\u001b[0m\n\u001b[1;32m-> 1447\u001b[1;33m             \u001b[1;32mreturn\u001b[0m \u001b[0mfunc\u001b[0m\u001b[1;33m(\u001b[0m\u001b[0max\u001b[0m\u001b[1;33m,\u001b[0m \u001b[1;33m*\u001b[0m\u001b[0mmap\u001b[0m\u001b[1;33m(\u001b[0m\u001b[0msanitize_sequence\u001b[0m\u001b[1;33m,\u001b[0m \u001b[0margs\u001b[0m\u001b[1;33m)\u001b[0m\u001b[1;33m,\u001b[0m \u001b[1;33m**\u001b[0m\u001b[0mkwargs\u001b[0m\u001b[1;33m)\u001b[0m\u001b[1;33m\u001b[0m\u001b[1;33m\u001b[0m\u001b[0m\n\u001b[0m\u001b[0;32m   1448\u001b[0m \u001b[1;33m\u001b[0m\u001b[0m\n\u001b[0;32m   1449\u001b[0m         \u001b[0mbound\u001b[0m \u001b[1;33m=\u001b[0m \u001b[0mnew_sig\u001b[0m\u001b[1;33m.\u001b[0m\u001b[0mbind\u001b[0m\u001b[1;33m(\u001b[0m\u001b[0max\u001b[0m\u001b[1;33m,\u001b[0m \u001b[1;33m*\u001b[0m\u001b[0margs\u001b[0m\u001b[1;33m,\u001b[0m \u001b[1;33m**\u001b[0m\u001b[0mkwargs\u001b[0m\u001b[1;33m)\u001b[0m\u001b[1;33m\u001b[0m\u001b[1;33m\u001b[0m\u001b[0m\n",
      "\u001b[1;32mD:\\Anaconda\\Installed\\lib\\site-packages\\matplotlib\\cbook\\deprecation.py\u001b[0m in \u001b[0;36mwrapper\u001b[1;34m(*inner_args, **inner_kwargs)\u001b[0m\n\u001b[0;32m    409\u001b[0m                          \u001b[1;32melse\u001b[0m \u001b[0mdeprecation_addendum\u001b[0m\u001b[1;33m,\u001b[0m\u001b[1;33m\u001b[0m\u001b[1;33m\u001b[0m\u001b[0m\n\u001b[0;32m    410\u001b[0m                 **kwargs)\n\u001b[1;32m--> 411\u001b[1;33m         \u001b[1;32mreturn\u001b[0m \u001b[0mfunc\u001b[0m\u001b[1;33m(\u001b[0m\u001b[1;33m*\u001b[0m\u001b[0minner_args\u001b[0m\u001b[1;33m,\u001b[0m \u001b[1;33m**\u001b[0m\u001b[0minner_kwargs\u001b[0m\u001b[1;33m)\u001b[0m\u001b[1;33m\u001b[0m\u001b[1;33m\u001b[0m\u001b[0m\n\u001b[0m\u001b[0;32m    412\u001b[0m \u001b[1;33m\u001b[0m\u001b[0m\n\u001b[0;32m    413\u001b[0m     \u001b[1;32mreturn\u001b[0m \u001b[0mwrapper\u001b[0m\u001b[1;33m\u001b[0m\u001b[1;33m\u001b[0m\u001b[0m\n",
      "\u001b[1;32mD:\\Anaconda\\Installed\\lib\\site-packages\\matplotlib\\axes\\_axes.py\u001b[0m in \u001b[0;36mscatter\u001b[1;34m(self, x, y, s, c, marker, cmap, norm, vmin, vmax, alpha, linewidths, verts, edgecolors, plotnonfinite, **kwargs)\u001b[0m\n\u001b[0;32m   4439\u001b[0m         \u001b[0my\u001b[0m \u001b[1;33m=\u001b[0m \u001b[0mnp\u001b[0m\u001b[1;33m.\u001b[0m\u001b[0mma\u001b[0m\u001b[1;33m.\u001b[0m\u001b[0mravel\u001b[0m\u001b[1;33m(\u001b[0m\u001b[0my\u001b[0m\u001b[1;33m)\u001b[0m\u001b[1;33m\u001b[0m\u001b[1;33m\u001b[0m\u001b[0m\n\u001b[0;32m   4440\u001b[0m         \u001b[1;32mif\u001b[0m \u001b[0mx\u001b[0m\u001b[1;33m.\u001b[0m\u001b[0msize\u001b[0m \u001b[1;33m!=\u001b[0m \u001b[0my\u001b[0m\u001b[1;33m.\u001b[0m\u001b[0msize\u001b[0m\u001b[1;33m:\u001b[0m\u001b[1;33m\u001b[0m\u001b[1;33m\u001b[0m\u001b[0m\n\u001b[1;32m-> 4441\u001b[1;33m             \u001b[1;32mraise\u001b[0m \u001b[0mValueError\u001b[0m\u001b[1;33m(\u001b[0m\u001b[1;34m\"x and y must be the same size\"\u001b[0m\u001b[1;33m)\u001b[0m\u001b[1;33m\u001b[0m\u001b[1;33m\u001b[0m\u001b[0m\n\u001b[0m\u001b[0;32m   4442\u001b[0m \u001b[1;33m\u001b[0m\u001b[0m\n\u001b[0;32m   4443\u001b[0m         \u001b[1;32mif\u001b[0m \u001b[0ms\u001b[0m \u001b[1;32mis\u001b[0m \u001b[1;32mNone\u001b[0m\u001b[1;33m:\u001b[0m\u001b[1;33m\u001b[0m\u001b[1;33m\u001b[0m\u001b[0m\n",
      "\u001b[1;31mValueError\u001b[0m: x and y must be the same size"
     ]
    },
    {
     "data": {
      "image/png": "[encoded data removed]",
      "text/plain": [
       "<Figure size 432x288 with 1 Axes>"
      ]
     },
     "metadata": {
      "needs_background": "light"
     },
     "output_type": "display_data"
    }
   ],
   "source": [
    "k = 5\n",
    "n = np.arange(1,k+1)\n",
    "plt.scatter(n, data)"
   ]
  },
  {
   "cell_type": "markdown",
   "id": "d7e84863",
   "metadata": {},
   "source": [
    "Real(actual) data analysis (hw1a)"
   ]
  },
  {
   "cell_type": "code",
   "execution_count": 28,
   "id": "d080130f",
   "metadata": {},
   "outputs": [],
   "source": [
    "q=open('hw1a.txt')\n",
    "lines=q.readlines()"
   ]
  },
  {
   "cell_type": "code",
   "execution_count": 29,
   "id": "1cd89144",
   "metadata": {},
   "outputs": [],
   "source": [
    "data_all = np.array([])\n",
    "for x in range(10000): \n",
    "    data_all = np.append(data_all, float(lines[x]))"
   ]
  },
  {
   "cell_type": "code",
   "execution_count": 30,
   "id": "5a2f26d2",
   "metadata": {},
   "outputs": [
    {
     "name": "stdout",
     "output_type": "stream",
     "text": [
      "[117.94770603 134.32183813 113.3730182  ... 137.70895708 123.69468589\n",
      " 151.32076008]\n"
     ]
    }
   ],
   "source": [
    "print(data_all)"
   ]
  },
  {
   "cell_type": "code",
   "execution_count": 31,
   "id": "c897abdc",
   "metadata": {},
   "outputs": [
    {
     "data": {
      "text/plain": [
       "120.13317118090191"
      ]
     },
     "execution_count": 31,
     "metadata": {},
     "output_type": "execute_result"
    }
   ],
   "source": [
    "data_all_avg = np.average(data_all)\n",
    "data_all_avg"
   ]
  },
  {
   "cell_type": "markdown",
   "id": "88987e04",
   "metadata": {},
   "source": [
    "Calculating standard deviation"
   ]
  },
  {
   "cell_type": "code",
   "execution_count": 32,
   "id": "e3eb8bf2",
   "metadata": {},
   "outputs": [
    {
     "data": {
      "text/plain": [
       "19.97553838285526"
      ]
     },
     "execution_count": 32,
     "metadata": {},
     "output_type": "execute_result"
    }
   ],
   "source": [
    "import math\n",
    "temp = 0.00\n",
    "for x in range(10000):\n",
    "    temp = temp + (data_all[x]-data_all_avg)**2\n",
    "actual_std_deviation = math.sqrt(temp/10000)\n",
    "actual_std_deviation"
   ]
  },
  {
   "cell_type": "code",
   "execution_count": null,
   "id": "2df019b9",
   "metadata": {},
   "outputs": [],
   "source": []
  },
  {
   "cell_type": "code",
   "execution_count": null,
   "id": "8ebc742f",
   "metadata": {},
   "outputs": [],
   "source": []
  }
 ],
 "metadata": {
  "kernelspec": {
   "display_name": "Python 3",
   "language": "python",
   "name": "python3"
  },
  "language_info": {
   "codemirror_mode": {
    "name": "ipython",
    "version": 3
   },
   "file_extension": ".py",
   "mimetype": "text/x-python",
   "name": "python",
   "nbconvert_exporter": "python",
   "pygments_lexer": "ipython3",
   "version": "3.8.8"
  }
 },
 "nbformat": 4,
 "nbformat_minor": 5
}
