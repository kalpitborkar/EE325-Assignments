{
 "cells": [
  {
   "cell_type": "code",
   "execution_count": 1,
   "id": "b666115f",
   "metadata": {},
   "outputs": [],
   "source": [
    "from array import *\n",
    "import numpy as np\n",
    "import random\n",
    "import matplotlib.pyplot as plt\n",
    "%matplotlib inline\n",
    "from math import comb"
   ]
  },
  {
   "cell_type": "code",
   "execution_count": 2,
   "id": "6422fa29",
   "metadata": {},
   "outputs": [],
   "source": [
    "m = 100\n",
    "n = 1000\n",
    "p = 20\n",
    "x = comb(m,p)\n",
    "y = comb(n-m,m-p)\n",
    "z = comb(n,m)\n",
    "final = (x*y)/z"
   ]
  },
  {
   "cell_type": "code",
   "execution_count": 3,
   "id": "3a599e7f",
   "metadata": {
    "scrolled": true
   },
   "outputs": [
    {
     "data": {
      "text/plain": [
       "array([0.        , 0.        , 0.        , 0.        , 0.        ,\n",
       "       0.        , 0.        , 0.        , 0.        , 0.        ,\n",
       "       0.        , 0.        , 0.        , 0.        , 0.        ,\n",
       "       0.        , 0.        , 0.        , 0.        , 0.        ,\n",
       "       0.        , 0.        , 0.        , 0.        , 0.        ,\n",
       "       0.00186475, 0.01000451, 0.02871374, 0.05862388, 0.09554783,\n",
       "       0.13229699, 0.16175243, 0.17925811, 0.18347   , 0.17586345,\n",
       "       0.15957979, 0.1382456 , 0.11512057, 0.09266115, 0.07242426,\n",
       "       0.05518039, 0.04111624, 0.03004517, 0.02158257, 0.01527187,\n",
       "       0.01066398, 0.00735975, 0.00502711, 0.0034026 , 0.00228458])"
      ]
     },
     "execution_count": 3,
     "metadata": {},
     "output_type": "execute_result"
    }
   ],
   "source": [
    "final_data = np.array([])\n",
    "for x in range(50):\n",
    "    m = 100\n",
    "    n = m+x\n",
    "    p = 75\n",
    "    x = comb(m,p)\n",
    "    y = comb(n-m,m-p)\n",
    "    z = comb(n,m)\n",
    "    final = (x*y)/z\n",
    "    final_data = np.append(final_data, final)\n",
    "final_data"
   ]
  },
  {
   "cell_type": "code",
   "execution_count": 4,
   "id": "6da2f7fa",
   "metadata": {},
   "outputs": [],
   "source": [
    "n_arr = np.arange(1,51)"
   ]
  },
  {
   "cell_type": "code",
   "execution_count": 6,
   "id": "840edfa8",
   "metadata": {},
   "outputs": [
    {
     "data": {
      "text/plain": [
       "<matplotlib.collections.PathCollection at 0x1ed30cb78b0>"
      ]
     },
     "execution_count": 6,
     "metadata": {},
     "output_type": "execute_result"
    },
    {
     "data": {
      "image/png": "[encoded data removed]",
      "text/plain": [
       "<Figure size 432x288 with 1 Axes>"
      ]
     },
     "metadata": {
      "needs_background": "light"
     },
     "output_type": "display_data"
    }
   ],
   "source": [
    "plt.scatter(n_arr, final_data)"
   ]
  },
  {
   "cell_type": "markdown",
   "id": "8509a4c2",
   "metadata": {},
   "source": [
    "method 2 : "
   ]
  },
  {
   "cell_type": "code",
   "execution_count": 42,
   "id": "66753f28",
   "metadata": {},
   "outputs": [
    {
     "data": {
      "text/plain": [
       "array([0.00000000e+00, 0.00000000e+00, 0.00000000e+00, 0.00000000e+00,\n",
       "       0.00000000e+00, 0.00000000e+00, 0.00000000e+00, 0.00000000e+00,\n",
       "       0.00000000e+00, 0.00000000e+00, 0.00000000e+00, 0.00000000e+00,\n",
       "       0.00000000e+00, 0.00000000e+00, 0.00000000e+00, 0.00000000e+00,\n",
       "       0.00000000e+00, 0.00000000e+00, 0.00000000e+00, 0.00000000e+00,\n",
       "       0.00000000e+00, 0.00000000e+00, 0.00000000e+00, 0.00000000e+00,\n",
       "       0.00000000e+00, 0.00000000e+00, 0.00000000e+00, 0.00000000e+00,\n",
       "       0.00000000e+00, 0.00000000e+00, 0.00000000e+00, 0.00000000e+00,\n",
       "       0.00000000e+00, 0.00000000e+00, 0.00000000e+00, 0.00000000e+00,\n",
       "       0.00000000e+00, 0.00000000e+00, 0.00000000e+00, 0.00000000e+00,\n",
       "       0.00000000e+00, 0.00000000e+00, 0.00000000e+00, 0.00000000e+00,\n",
       "       0.00000000e+00, 0.00000000e+00, 0.00000000e+00, 0.00000000e+00,\n",
       "       0.00000000e+00, 5.01232273e-12, 8.63380888e-11, 7.67954580e-10,\n",
       "       4.69974818e-09, 2.22475092e-08, 8.68370522e-08, 2.90941235e-07,\n",
       "       8.60116534e-07, 2.28910761e-06, 5.56840224e-06, 1.25289050e-05,\n",
       "       2.63241421e-05, 5.20524702e-05, 9.74970526e-05, 1.73932024e-04,\n",
       "       2.96914263e-04, 4.86957278e-04, 7.69972251e-04, 1.17736498e-03,\n",
       "       1.74569749e-03, 2.51585815e-03, 3.53172959e-03, 4.83839487e-03,\n",
       "       6.47997142e-03, 8.49720390e-03, 1.09249764e-02, 1.37899178e-02,\n",
       "       1.71082701e-02, 2.08841724e-02, 2.51084800e-02, 2.97581986e-02,\n",
       "       3.47965676e-02, 4.01737844e-02, 4.58283161e-02, 5.16887146e-02,\n",
       "       5.76758244e-02, 6.37052564e-02, 6.96899965e-02, 7.55430197e-02,\n",
       "       8.11797937e-02, 8.65205696e-02, 9.14923812e-02, 9.60306937e-02,\n",
       "       1.00080669e-01, 1.03598031e-01, 1.06549541e-01, 1.08913107e-01,\n",
       "       1.10677549e-01, 1.11842085e-01, 1.12415576e-01, 1.12415576e-01,\n",
       "       1.11867261e-01, 1.10802264e-01, 1.09257479e-01, 1.07273865e-01,\n",
       "       1.04895287e-01, 1.02167427e-01, 9.91367807e-02, 9.58497521e-02,\n",
       "       9.23518697e-02, 8.86871129e-02, 8.48973598e-02, 8.10219478e-02,\n",
       "       7.70973434e-02, 7.31569126e-02, 6.92307814e-02, 6.53457768e-02,\n",
       "       6.15254377e-02, 5.77900833e-02, 5.41569300e-02, 5.06402462e-02,\n",
       "       4.72515356e-02, 4.39997407e-02, 4.08914600e-02, 3.79311709e-02,\n",
       "       3.51214545e-02, 3.24632168e-02, 2.99559028e-02, 2.75977008e-02,\n",
       "       2.53857354e-02, 2.33162461e-02, 2.13847522e-02, 1.95862028e-02,\n",
       "       1.79151115e-02, 1.63656768e-02, 1.49318878e-02, 1.36076171e-02,\n",
       "       1.23866999e-02, 1.12630020e-02, 1.02304763e-02, 9.28320997e-03,\n",
       "       8.41546202e-03, 7.62169314e-03, 6.89658848e-03, 6.23507406e-03,\n",
       "       5.63232791e-03, 5.08378649e-03, 4.58514722e-03, 4.13236771e-03,\n",
       "       3.72166222e-03, 3.34949600e-03, 3.01257774e-03, 2.70785077e-03,\n",
       "       2.43248316e-03, 2.18385715e-03, 1.95955810e-03, 1.75736313e-03,\n",
       "       1.57522978e-03, 1.41128468e-03, 1.26381240e-03, 1.13124467e-03,\n",
       "       1.01214984e-03, 9.05222889e-04, 8.09275781e-04, 7.23228383e-04,\n",
       "       6.46099843e-04, 5.77000495e-04, 5.15124262e-04, 4.59741562e-04,\n",
       "       4.10192708e-04, 3.65881767e-04, 3.26270890e-04, 2.90875060e-04,\n",
       "       2.59257264e-04, 2.31024045e-04, 2.05821421e-04, 1.83331158e-04,\n",
       "       1.63267343e-04, 1.45373271e-04, 1.29418604e-04, 1.15196780e-04,\n",
       "       1.02522662e-04, 9.12304063e-05, 8.11715263e-05, 7.22131383e-05,\n",
       "       6.42363784e-05, 5.71349688e-05, 5.08139252e-05, 4.51883900e-05,\n",
       "       4.01825815e-05, 3.57288471e-05, 3.17668122e-05, 2.82426144e-05,\n",
       "       2.51082160e-05, 2.23207865e-05, 1.98421486e-05, 1.76382817e-05,\n",
       "       1.56788766e-05, 1.39369372e-05, 1.23884234e-05])"
      ]
     },
     "execution_count": 42,
     "metadata": {},
     "output_type": "execute_result"
    }
   ],
   "source": [
    "final_data = np.array([])\n",
    "m = 100\n",
    "for x in range(m+1,300):\n",
    "    n = x\n",
    "    p = 50\n",
    "    x = comb(m,p)\n",
    "    y = comb(n-m,m-p)\n",
    "    z = comb(n,m)\n",
    "    final = (x*y)/z\n",
    "    final_data = np.append(final_data, final)\n",
    "final_data"
   ]
  },
  {
   "cell_type": "code",
   "execution_count": 43,
   "id": "0c84cd7e",
   "metadata": {},
   "outputs": [],
   "source": [
    "n_arr = np.arange(1,300-m)"
   ]
  },
  {
   "cell_type": "code",
   "execution_count": 44,
   "id": "c5973275",
   "metadata": {},
   "outputs": [
    {
     "data": {
      "text/plain": [
       "<matplotlib.collections.PathCollection at 0x1ed312579a0>"
      ]
     },
     "execution_count": 44,
     "metadata": {},
     "output_type": "execute_result"
    },
    {
     "data": {
      "image/png": "[encoded data removed]",
      "text/plain": [
       "<Figure size 432x288 with 1 Axes>"
      ]
     },
     "metadata": {
      "needs_background": "light"
     },
     "output_type": "display_data"
    }
   ],
   "source": [
    "plt.scatter(n_arr+100, final_data)"
   ]
  },
  {
   "cell_type": "code",
   "execution_count": null,
   "id": "bf8444a5",
   "metadata": {},
   "outputs": [],
   "source": []
  }
 ],
 "metadata": {
  "kernelspec": {
   "display_name": "Python 3",
   "language": "python",
   "name": "python3"
  },
  "language_info": {
   "codemirror_mode": {
    "name": "ipython",
    "version": 3
   },
   "file_extension": ".py",
   "mimetype": "text/x-python",
   "name": "python",
   "nbconvert_exporter": "python",
   "pygments_lexer": "ipython3",
   "version": "3.8.8"
  }
 },
 "nbformat": 4,
 "nbformat_minor": 5
}
