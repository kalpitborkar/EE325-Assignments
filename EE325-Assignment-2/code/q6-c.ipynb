{
 "cells": [
  {
   "cell_type": "code",
   "execution_count": 1,
   "id": "edce0954",
   "metadata": {},
   "outputs": [],
   "source": [
    "from array import *\n",
    "import numpy as np\n",
    "import random\n",
    "import matplotlib.pyplot as plt\n",
    "%matplotlib inline\n",
    "from math import comb"
   ]
  },
  {
   "cell_type": "code",
   "execution_count": 12,
   "id": "a45e7b3e",
   "metadata": {},
   "outputs": [],
   "source": [
    "#creating n1 with 1000 fish and marking 100 of them\n",
    "n1 = np.zeros(1000)\n",
    "m = 100\n",
    "for x in range(m):\n",
    "    n1[x] = 1"
   ]
  },
  {
   "cell_type": "code",
   "execution_count": 18,
   "id": "0e00072c",
   "metadata": {},
   "outputs": [
    {
     "data": {
      "text/plain": [
       "array([0., 0., 0., 0., 0., 0., 0., 0., 0., 0., 0., 0., 0., 0., 0., 0., 0.,\n",
       "       0., 0., 0., 0., 0., 0., 0., 0., 0., 0., 0., 1., 0., 0., 0., 0., 0.,\n",
       "       0., 0., 0., 0., 0., 0., 0., 0., 0., 0., 0., 0., 0., 0., 0., 0., 1.,\n",
       "       0., 1., 0., 0., 0., 0., 0., 0., 0., 0., 0., 0., 0., 0., 0., 1., 0.,\n",
       "       0., 0., 0., 1., 0., 0., 0., 0., 0., 0., 0., 1., 0., 0., 0., 0., 0.,\n",
       "       0., 0., 0., 0., 0., 0., 1., 0., 0., 0., 0., 0., 0., 1., 1.])"
      ]
     },
     "execution_count": 18,
     "metadata": {},
     "output_type": "execute_result"
    }
   ],
   "source": [
    "#selecting 100 random fish from n1\n",
    "n1_select_100_fish = np.random.choice(n1, size=100, replace=False)\n",
    "n1_select_100_fish"
   ]
  },
  {
   "cell_type": "code",
   "execution_count": 19,
   "id": "57906dda",
   "metadata": {},
   "outputs": [
    {
     "data": {
      "text/plain": [
       "9"
      ]
     },
     "execution_count": 19,
     "metadata": {},
     "output_type": "execute_result"
    }
   ],
   "source": [
    "np.count_nonzero(n1_select_100_fish)"
   ]
  },
  {
   "cell_type": "code",
   "execution_count": 27,
   "id": "d24a1741",
   "metadata": {},
   "outputs": [
    {
     "data": {
      "text/plain": [
       "74.116"
      ]
     },
     "execution_count": 27,
     "metadata": {},
     "output_type": "execute_result"
    }
   ],
   "source": [
    "#doing the above process 500 times\n",
    "repeating_500_times_data = np.array([])\n",
    "for y in range(500):\n",
    "    n1 = np.zeros(135) #value of ni_cap in parethesis\n",
    "    m = 100\n",
    "    for x in range(m):\n",
    "        n1[x] = 1\n",
    "    n1_select_100_fish = np.random.choice(n1, size=100, replace=False)\n",
    "    repeating_500_times_data = np.append(repeating_500_times_data, np.count_nonzero(n1_select_100_fish))\n",
    "np.average(repeating_500_times_data)"
   ]
  },
  {
   "cell_type": "code",
   "execution_count": null,
   "id": "0c764b36",
   "metadata": {},
   "outputs": [],
   "source": []
  }
 ],
 "metadata": {
  "kernelspec": {
   "display_name": "Python 3",
   "language": "python",
   "name": "python3"
  },
  "language_info": {
   "codemirror_mode": {
    "name": "ipython",
    "version": 3
   },
   "file_extension": ".py",
   "mimetype": "text/x-python",
   "name": "python",
   "nbconvert_exporter": "python",
   "pygments_lexer": "ipython3",
   "version": "3.8.8"
  }
 },
 "nbformat": 4,
 "nbformat_minor": 5
}
